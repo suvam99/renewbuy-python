{
 "cells": [
  {
   "cell_type": "markdown",
   "id": "ec891385",
   "metadata": {},
   "source": [
    "# Question 1:\n",
    "You are required to write a program to sort the (name, age, height) tuples by\n",
    "ascending order where name is string, age and height are numbers. The\n",
    "tuples are input by console. The sort criteria is:\n",
    "1: Sort based on name;\n",
    "2: Then sort based on age;\n",
    "3: Then sort by score.\n",
    "The priority is that name > age > score.\n",
    "If the following tuples are given as input to the program:\n",
    "Tom,19,80\n",
    "John,20,90\n",
    "Jony,17,91\n",
    "Jony,17,93\n",
    "Json,21,85\n",
    "Then, the output of the program should be:\n",
    "[('John', '20', '90'), ('Jony', '17', '91'), ('Jony', '17', '93'), ('Json', '21', '85'), ('Tom', '19', '80')]"
   ]
  },
  {
   "cell_type": "code",
   "execution_count": 126,
   "id": "2ceacba9",
   "metadata": {},
   "outputs": [
    {
     "name": "stdout",
     "output_type": "stream",
     "text": [
      "6\n",
      "Tom,19,80\n",
      "John,20,90\n",
      "Jony,17,91\n",
      "Suvam,22,100\n",
      "Jony,17,93\n",
      "Json,21,85\n",
      "[('John', 20, 90), ('Jony', 17, 91), ('Jony', 17, 93), ('Json', 21, 85), ('Suvam', 22, 100), ('Tom', 19, 80)]\n"
     ]
    }
   ],
   "source": [
    "n=int(input())  #no. of tuples\n",
    "arr=[]\n",
    "for i in range(n):  #input for tuples and appending element to list\n",
    "    name,age,score=input().split(',')\n",
    "    arr.append((str(name),int(age),int(score)))\n",
    "    \n",
    "arr.sort(key = lambda arr: (arr[0],arr[1],arr[2])) #sorting of tuples\n",
    "print(arr)"
   ]
  },
  {
   "cell_type": "markdown",
   "id": "03d4215b",
   "metadata": {},
   "source": [
    "# Question 2:\n",
    "Define a class with a generator which can iterate the numbers, which are divisible\n",
    "by 7, between a given range 0 and n."
   ]
  },
  {
   "cell_type": "code",
   "execution_count": 36,
   "id": "8adc3007",
   "metadata": {},
   "outputs": [
    {
     "name": "stdout",
     "output_type": "stream",
     "text": [
      "60\n",
      "[0, 7, 14, 21, 28, 35, 42, 49, 56]\n",
      "Not divisible by 7\n"
     ]
    }
   ],
   "source": [
    "class iterator():\n",
    "    def __init__(self, n): \n",
    "        self.n = n\n",
    "    def divby7(self):\n",
    "        for i in range(self.n):\n",
    "            if i % 7 == 0:\n",
    "                yield i\n",
    "                \n",
    "n=int(input())\n",
    "arr=[]\n",
    "for i in iterator(n).divby7():   # to print all the numbers which is divisible by 7 between 0 and n \n",
    "    arr.append(i)\n",
    "print(arr)\n",
    "\n",
    "#to check if n is divisible by 7\n",
    "if n in arr:\n",
    "    print('Divisible by 7')\n",
    "else:\n",
    "    print('Not divisible by 7')"
   ]
  },
  {
   "cell_type": "markdown",
   "id": "875a91ff",
   "metadata": {},
   "source": [
    "# Question 3:\n",
    "Please write a program using a generator to print the numbers which can be\n",
    "divisible by 5 and 7 between 0 and n in comma separated form while n is\n",
    "input by console.\n",
    "\n",
    "Example:\n",
    "If the following n is given as input to the program:\n",
    "100\n",
    "Then, the output of the program should be: 0,35,70"
   ]
  },
  {
   "cell_type": "code",
   "execution_count": 29,
   "id": "8e21822e",
   "metadata": {},
   "outputs": [
    {
     "name": "stdout",
     "output_type": "stream",
     "text": [
      "500\n",
      "[0, 35, 70, 105, 140, 175, 210, 245, 280, 315, 350, 385, 420, 455, 490]\n"
     ]
    }
   ],
   "source": [
    "def num5_7(n):\n",
    "    for i in range(n+1):\n",
    "        if i%5==0 and i%7==0:\n",
    "            yield i\n",
    "            \n",
    "n=int(input())\n",
    "arr=[]\n",
    "for i in num5_7(n):\n",
    "    arr.append(i)\n",
    "print(arr)"
   ]
  },
  {
   "cell_type": "markdown",
   "id": "18c1e62c",
   "metadata": {},
   "source": [
    "# Question 4:\n",
    "Create a function that takes a list of football clubs with properties: name, wins,\n",
    "loss, draws, scored, conceded, and returns the team name with the highest\n",
    "number of points. If two teams have the same number of points, return the\n",
    "team with the largest goal difference.\n",
    "How to Calculate Points and Goal Difference\n",
    "team = { \"name\": \"Manchester United\", \"wins\": 30, \"loss\": 3, \"draws\": 5, \"scored\": 88,\n",
    "\"conceded\": 20 }\n",
    "Total Points = 3 * wins + 0 * loss + 1 * draws = 3 * 30 + 0 * 3 + 5 * 1 = 95 points\n",
    "Goal Difference = scored - conceded = 88 - 20 = 68"
   ]
  },
  {
   "cell_type": "code",
   "execution_count": 34,
   "id": "42becdb7",
   "metadata": {},
   "outputs": [
    {
     "name": "stdout",
     "output_type": "stream",
     "text": [
      "6\n",
      "Manchester United,16,12,10,57,57\n",
      "Arsenal,22,13,3,57,57\n",
      "Chelsea,21,6,11,76,33\n",
      "Manchester City,29,3,6,99,26\n",
      "Liverpool,28,1,9,94,26\n",
      "Tottenham,22,11,5,69,40\n",
      "The Team with the highest number of points is Manchester City\n"
     ]
    }
   ],
   "source": [
    "n=int(input())      #no. of team\n",
    "arr=[]\n",
    "for i in range(n):     #for input list of football team with their properties(list of dictionary)\n",
    "    name,wins,loss,draws,scored,conceded=input().split(',') \n",
    "    Football_team={'name':name,'wins':int(wins),'loss':int(loss),'draws':int(draws),'scored':int(scored),'conceded':int(conceded)} \n",
    "    arr.append(Football_team)\n",
    "    \n",
    "    \n",
    "d={}\n",
    "ans=[]\n",
    "for i in arr:    #for calculating total score and goal differnce\n",
    "    total = 3 * i['wins'] + 0 * i['loss'] + 1 * i['draws']\n",
    "    gd = i['scored']- i['conceded']\n",
    "    d={'name':i['name'],'total':int(total),'gd':int(gd)}\n",
    "    ans.append(d)\n",
    "    \n",
    "    \n",
    "max_total=0\n",
    "max_gd=0\n",
    "team=''\n",
    "for i in ans:          #to get the team with maximum points\n",
    "    if i['total']>max_total:\n",
    "        max_total=i['total']\n",
    "        max_gd=i['gd']\n",
    "        team=i['name']\n",
    "    if i['total']==max_total and i['gd']>max_gd:\n",
    "        max_gd=i['gd']\n",
    "        team=i['name']\n",
    "print('The Team with the highest number of points is' ,team)"
   ]
  }
 ],
 "metadata": {
  "kernelspec": {
   "display_name": "Python 3",
   "language": "python",
   "name": "python3"
  },
  "language_info": {
   "codemirror_mode": {
    "name": "ipython",
    "version": 3
   },
   "file_extension": ".py",
   "mimetype": "text/x-python",
   "name": "python",
   "nbconvert_exporter": "python",
   "pygments_lexer": "ipython3",
   "version": "3.8.8"
  }
 },
 "nbformat": 4,
 "nbformat_minor": 5
}
